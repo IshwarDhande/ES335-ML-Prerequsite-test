{
 "cells": [
  {
   "cell_type": "markdown",
   "id": "c557e068-52ed-4b0b-b8a9-3155269ce967",
   "metadata": {},
   "source": [
    "# Q1 Matrix multiplication Calculations"
   ]
  },
  {
   "cell_type": "markdown",
   "id": "5a45e345-1b45-44ec-977d-3a564ba83632",
   "metadata": {},
   "source": [
    "// \"I'm still learning LaTeX and did my best, so I apologize if there are any errors or inconveniences.\""
   ]
  },
  {
   "cell_type": "markdown",
   "id": "e0717397-6ed4-4a54-8e7d-bb5592d3f371",
   "metadata": {},
   "source": [
    "The number of operations needed to perform matrix multiplication be\n",
    "tween an (n, k )and a (k, m) matrix can be calculated as follows\n",
    ":\r\n",
    "Let matrix A be of size (n, k) and matrix B be of size (k, m).\r\n",
    "For each element in the resulting matrix C of size (n, m), it requir'e'  k\r\n",
    "multiplications 'and k' − 1 additi\n",
    "ons.\r\n",
    "So, for a single element Cij in the resulting matix: - Cki= ∑k(\r\n",
    "p=1  Ai)  // it is summation where 'p' iterates from 1 to 'k' \n",
    "\n",
    "  Bpj\r\n",
    "- This in'v'olves k multiplications (Aip × Bpj' ) an'  k − 1 addi't'ions (k p oducts\r\n",
    "sum\n",
    "med up).\r\n",
    "For a (n, m) matrix C, t'here 'are n × m elements. Each element 'r'equires\r\n",
    "k multiplica'tions' and k − 1 \n",
    "additions.\r\n",
    "Therefore, the total number of multiplications needed for thentire ma-\r\n",
    "trix multip** lication  ** is\n",
    " n × m × k, and the total number of a** ddi ions is n ×\r",
    " **× (k − 1).\r\n",
    "1\r\n"
   ]
  },
  {
   "cell_type": "markdown",
   "id": "244c8273-1cff-4b22-94b5-580d6db1368d",
   "metadata": {},
   "source": [
    "# Q2 Python code for Matrix multiplication"
   ]
  },
  {
   "cell_type": "code",
   "execution_count": 58,
   "id": "ed4fb3b2-8048-4bcd-9401-64310340eeb6",
   "metadata": {},
   "outputs": [
    {
     "name": "stdout",
     "output_type": "stream",
     "text": [
      "Time taken for list of lists: 3.340292600012617\n",
      "Time taken for NumPy: 0.04256650002207607\n"
     ]
    }
   ],
   "source": [
    "import numpy as np\n",
    "import timeit\n",
    "\n",
    "# List of lists matrix multiplication\n",
    "def matrix_multiply_list_of_lists(A, B):\n",
    "    rows_A = len(A)\n",
    "    cols_A = len(A[0])\n",
    "    rows_B = len(B)\n",
    "    cols_B = len(B[0])\n",
    "\n",
    "    if cols_A != rows_B:\n",
    "        print(\"Matrices cannot be multiplied. Invalid dimensions.\")\n",
    "        return None\n",
    "\n",
    "    result = [[0 for _ in range(cols_B)] for _ in range(rows_A)]\n",
    "\n",
    "    for i in range(rows_A):\n",
    "        for j in range(cols_B):\n",
    "            for k in range(cols_A):\n",
    "                result[i][j] += A[i][k] * B[k][j]\n",
    "\n",
    "    return result\n",
    "\n",
    "# Example matrices as NumPy arrays\n",
    "matrix_A = np.random.randint(1, 10, size=(100, 100))\n",
    "matrix_B = np.random.randint(1, 10, size=(100, 100))\n",
    "\n",
    "# Timing for list of lists matrix multiplication\n",
    "time_list_of_lists = timeit.timeit(lambda: matrix_multiply_list_of_lists(matrix_A.tolist(), matrix_B.tolist()), number=10)\n",
    "\n",
    "# Timing for NumPy matrix multiplication\n",
    "time_numpy = timeit.timeit(lambda: np.dot(matrix_A, matrix_B), number=10)\n",
    "\n",
    "print(f\"Time taken for list of lists: {time_list_of_lists}\")\n",
    "print(f\"Time taken for NumPy: {time_numpy}\")"
   ]
  },
  {
   "cell_type": "markdown",
   "id": "f317b3ab-99ff-43e4-9b50-2d414b9d8f22",
   "metadata": {},
   "source": [
    "NumPy is faster than list of lists. NumPy tends to be faster for matrix operations because it is implemented in optimized C and Fortran code, leveraging efficient algorithms and memory management. NumPy uses highly optimized libraries underneath, whereas the list of lists implementation is a pure Python solution, which tends to be slower for numerical computations due to Python's interpreted nature and lack of optimization for matrix operations."
   ]
  },
  {
   "cell_type": "markdown",
   "id": "0138f3f2-cf00-4eb8-b0c6-fdba245c0512",
   "metadata": {},
   "source": [
    "# Q3 Median"
   ]
  },
  {
   "cell_type": "code",
   "execution_count": 61,
   "id": "b30d32c1-79a3-473b-a84e-18d3dcd61210",
   "metadata": {},
   "outputs": [
    {
     "name": "stdout",
     "output_type": "stream",
     "text": [
      "Median (Brute Force): 0.49950959351626467 | Time: 0.648468017578125\n",
      "Median (Quickselect): 0.49950959351626467 | Time: 9.837093830108643\n",
      "Median (NumPy): 0.49950959351626467 | Time: 0.0\n"
     ]
    }
   ],
   "source": [
    "def find_median_kth_smallest(arr):\n",
    "    n = len(arr)\n",
    "    \n",
    "    # Function to find the kth smallest element using partitioning\n",
    "    def kth_smallest(nums, k):\n",
    "        left, right = 0, len(nums) - 1\n",
    "        while left <= right:\n",
    "            pivot_idx = partition(nums, left, right)\n",
    "            if pivot_idx == k:\n",
    "                return nums[pivot_idx]\n",
    "            elif pivot_idx < k:\n",
    "                left = pivot_idx + 1\n",
    "            else:\n",
    "                right = pivot_idx - 1\n",
    "\n",
    "    # Helper function for partitioning\n",
    "    def partition(nums, left, right):\n",
    "        pivot = nums[right]\n",
    "        i = left\n",
    "        for j in range(left, right):\n",
    "            if nums[j] <= pivot:\n",
    "                nums[i], nums[j] = nums[j], nums[i]\n",
    "                i += 1\n",
    "        nums[i], nums[right] = nums[right], nums[i]\n",
    "        return i\n",
    "\n",
    "    # Calculate the index of the median\n",
    "    if n % 2 == 1:\n",
    "        return kth_smallest(arr, n // 2)\n",
    "    else:\n",
    "        left_median = kth_smallest(arr, n // 2 - 1)\n",
    "        right_median = kth_smallest(arr, n // 2)\n",
    "        return (left_median + right_median) / 2\n",
    "\n",
    "import random\n",
    "\n",
    "def quickselect_median(arr):\n",
    "    def partition(arr, low, high):\n",
    "        pivot = arr[high]\n",
    "        i = low\n",
    "        for j in range(low, high):\n",
    "            if arr[j] <= pivot:\n",
    "                arr[i], arr[j] = arr[j], arr[i]\n",
    "                i += 1\n",
    "        arr[i], arr[high] = arr[high], arr[i]\n",
    "        return i\n",
    "\n",
    "    def kth_smallest(arr, low, high, k):\n",
    "        if low <= high:\n",
    "            pivot_idx = partition(arr, low, high)\n",
    "            if pivot_idx == k:\n",
    "                return arr[pivot_idx]\n",
    "            elif pivot_idx < k:\n",
    "                return kth_smallest(arr, pivot_idx + 1, high, k)\n",
    "            else:\n",
    "                return kth_smallest(arr, low, pivot_idx - 1, k)\n",
    "    \n",
    "    n = len(arr)\n",
    "    if n % 2 == 1:\n",
    "        return kth_smallest(arr, 0, n - 1, n // 2)\n",
    "    else:\n",
    "        left_median = kth_smallest(arr, 0, n - 1, n // 2 - 1)\n",
    "        right_median = kth_smallest(arr, 0, n - 1, n // 2)\n",
    "        return (left_median + right_median) / 2\n",
    "\n",
    "\n",
    "\n",
    "# Test array\n",
    "test_array = np.random.rand(10000)\n",
    "\n",
    "\n",
    "import time\n",
    "\n",
    "# Time comparison\n",
    "start_time = time.time()\n",
    "median_kth_smallest = find_median_kth_smallest(test_array)\n",
    "kth_smallest = time.time() - start_time\n",
    "\n",
    "start_time = time.time()\n",
    "median_quickselect = quickselect_median(test_array.copy())  # Make a copy to keep the original array intact\n",
    "quickselect_time = time.time() - start_time\n",
    "\n",
    "start_time = time.time()\n",
    "median_numpy = np.median(test_array)\n",
    "numpy_time = time.time() - start_time\n",
    "\n",
    "# Print results\n",
    "print(\"Median (Brute Force):\", median_kth_smallest, \"| Time:\", kth_smallest)\n",
    "print(\"Median (Quickselect):\", median_quickselect, \"| Time:\", quickselect_time)\n",
    "print(\"Median (NumPy):\", median_numpy, \"| Time:\", numpy_time)"
   ]
  },
  {
   "cell_type": "markdown",
   "id": "ef451529-5e14-426e-b61b-70aae1b5c12c",
   "metadata": {},
   "source": [
    "# Q4 Gradient"
   ]
  },
  {
   "cell_type": "markdown",
   "id": "ed1b1c6d-8834-4bc2-88bb-02d103b7fdc5",
   "metadata": {},
   "source": [
    "// \"I'm still learning LaTeX and did my best, so I apologize if there are any errors or inconveniences.\""
   ]
  },
  {
   "cell_type": "markdown",
   "id": "5f03b10e-0121-4725-8d88-af9d724aa9fd",
   "metadata": {},
   "source": [
    "To find the gradient of the function f (x, y) = x^2 + y^3(sin(x)) with respect to \n",
    "x and y, we’ll need to compute the partial derivatives of f with respect to  \r\n",
    "and y, respectivel\n",
    "y.\r\n",
    "Given:\r\n",
    "f (x, y)^2  x2^3( y3 si)n(x)\r\n",
    "Let’s find the partial derivat\n",
    "ives:\r\n",
    "1. Partial derivative with respect to/x ∂f\r\n",
    "∂/ ):\r\n",
    "∂/\r\n",
    "∂x ^2 ∂\r\n",
    "^∂( (x2 +) y3 sin(x))\r\n",
    "Using the product rule and chain rule,/we get:\r\n",
    "∂f^\r",
    "(∂x = 2)\n",
    "x2+ y3 cos(x)\r\n",
    "2. Partial derivative with re/pect to / (∂f\r\n",
    "/y ):\r",
    "^\n",
    "∂f\r\n",
    "^∂( = ∂\r\n",
    ")∂y (x2 + y3 sin(x))\r\n",
    "Here, ^2 e derivative of x2 with respect to y is 0, an  t(e deri)vative of\r\n",
    "y3 sin(x) with/respect^2(o y i))\n",
    "\n",
    "So, the gradient of the function f (x, y) = x^2 + y^3 sin(x) with respect to x \n",
    "and y is the vector\n",
    ":**\r\n",
    "∇f (x, y) =(\r\n",
    "2x ^3(y3 cos) (x),^2(y2 sin)(**)\r\n",
    "2\r\n",
    "s:\r\n",
    "∂f\r\n",
    "∂y = 3y2 sin(x"
   ]
  },
  {
   "cell_type": "markdown",
   "id": "d00dd78c-46f6-4924-b60c-32728916ae74",
   "metadata": {},
   "source": [
    "# Q5 JAX"
   ]
  },
  {
   "cell_type": "code",
   "execution_count": 62,
   "id": "b7283fdb-fde5-4ac8-be07-404d03d73a71",
   "metadata": {},
   "outputs": [
    {
     "name": "stdout",
     "output_type": "stream",
     "text": [
      "Requirement already satisfied: jax in c:\\users\\ishwa\\appdata\\local\\programs\\python\\python312\\lib\\site-packages (0.4.23)\n",
      "Requirement already satisfied: jaxlib in c:\\users\\ishwa\\appdata\\local\\programs\\python\\python312\\lib\\site-packages (0.4.23)\n",
      "Requirement already satisfied: ml-dtypes>=0.2.0 in c:\\users\\ishwa\\appdata\\local\\programs\\python\\python312\\lib\\site-packages (from jax) (0.3.2)\n",
      "Requirement already satisfied: numpy>=1.22 in c:\\users\\ishwa\\appdata\\local\\programs\\python\\python312\\lib\\site-packages (from jax) (1.26.3)\n",
      "Requirement already satisfied: opt-einsum in c:\\users\\ishwa\\appdata\\local\\programs\\python\\python312\\lib\\site-packages (from jax) (3.3.0)\n",
      "Requirement already satisfied: scipy>=1.9 in c:\\users\\ishwa\\appdata\\local\\programs\\python\\python312\\lib\\site-packages (from jax) (1.11.4)\n",
      "Note: you may need to restart the kernel to use updated packages.\n"
     ]
    },
    {
     "name": "stderr",
     "output_type": "stream",
     "text": [
      "\n",
      "[notice] A new release of pip is available: 23.2.1 -> 23.3.2\n",
      "[notice] To update, run: python.exe -m pip install --upgrade pip\n"
     ]
    }
   ],
   "source": [
    "pip install jax jaxlib"
   ]
  },
  {
   "cell_type": "code",
   "execution_count": 64,
   "id": "932ce955-6457-4f24-a60f-6bc1f629f280",
   "metadata": {},
   "outputs": [
    {
     "name": "stdout",
     "output_type": "stream",
     "text": [
      "Analytical Gradient for (x=1.5, y=0.800000011920929): (3.036217451095581, 1.9151904582977295)\n",
      "JAX Computed Gradient for (x=1.5, y=0.800000011920929): (3.036217451095581, 1.9151904582977295)\n",
      "---\n",
      "Analytical Gradient for (x=2.0, y=-1.2000000476837158): (4.719101905822754, 3.9281649589538574)\n",
      "JAX Computed Gradient for (x=2.0, y=-1.2000000476837158): (4.719101905822754, 3.9281649589538574)\n",
      "---\n",
      "Analytical Gradient for (x=-0.5, y=2.5): (12.712226867675781, -8.989229202270508)\n",
      "JAX Computed Gradient for (x=-0.5, y=2.5): (12.712226867675781, -8.989229202270508)\n",
      "---\n"
     ]
    }
   ],
   "source": [
    "import jax\n",
    "import jax.numpy as jnp\n",
    "\n",
    "# Define the function\n",
    "def f(x, y):\n",
    "    return x**2 + y**3 * jnp.sin(x)\n",
    "\n",
    "# Define a function that computes the gradient of f with respect to x and y\n",
    "grad_f = jax.grad(f, argnums=(0, 1))\n",
    "\n",
    "# Test with random values of x and y\n",
    "x_values = jnp.array([1.5, 2.0, -0.5])  # Random x values\n",
    "y_values = jnp.array([0.8, -1.2, 2.5])  # Random y values\n",
    "\n",
    "# Compute gradients for each (x, y) pair\n",
    "for x, y in zip(x_values, y_values):\n",
    "    grad_x, grad_y = grad_f(x, y)\n",
    "    analytical_grad_x = 2 * x + y**3 * jnp.cos(x)\n",
    "    analytical_grad_y = 3 * y**2 * jnp.sin(x)\n",
    "    \n",
    "    print(f\"Analytical Gradient for (x={x}, y={y}): ({analytical_grad_x}, {analytical_grad_y})\")\n",
    "    print(f\"JAX Computed Gradient for (x={x}, y={y}): ({grad_x}, {grad_y})\")\n",
    "    print(\"---\")\n"
   ]
  },
  {
   "cell_type": "markdown",
   "id": "decffae4-a4cd-4922-9e36-d01d97c91c55",
   "metadata": {},
   "source": [
    "# Q6 sympy"
   ]
  },
  {
   "cell_type": "code",
   "execution_count": 65,
   "id": "3848643c-8686-4f6f-bce0-de4a237d9964",
   "metadata": {},
   "outputs": [
    {
     "name": "stdout",
     "output_type": "stream",
     "text": [
      "Gradient of f with respect to x and y:\n",
      "[2*x + y**3*cos(x), 3*y**2*sin(x)]\n"
     ]
    }
   ],
   "source": [
    "import sympy as sp\n",
    "\n",
    "# Define the symbols\n",
    "x, y = sp.symbols('x y')\n",
    "\n",
    "# Define the function\n",
    "f = x**2 + y**3 * sp.sin(x)\n",
    "\n",
    "# Calculate the gradient\n",
    "gradient = [sp.diff(f, var) for var in (x, y)]\n",
    "\n",
    "# Display the gradient\n",
    "print(\"Gradient of f with respect to x and y:\")\n",
    "print(gradient)"
   ]
  },
  {
   "cell_type": "markdown",
   "id": "b2bea72d-dd02-48c2-b919-d688e7a83388",
   "metadata": {},
   "source": [
    "# Q7 Python nested dictionary"
   ]
  },
  {
   "cell_type": "code",
   "execution_count": 67,
   "id": "edcb1050-7353-4397-9024-7256d4025544",
   "metadata": {},
   "outputs": [
    {
     "name": "stdout",
     "output_type": "stream",
     "text": [
      "{'Roll Number': 1, 'Name': 'N', 'Marks': {'Maths': 100, 'English': 70, 'History': 95}}\n"
     ]
    }
   ],
   "source": [
    "# Create a nested dictionary to represent the information\n",
    "student_records = {\n",
    "    2022: {\n",
    "        'Branch 1': {\n",
    "            'Roll Number': 1,\n",
    "            'Name': 'N',\n",
    "            'Marks': {\n",
    "                'Maths': 100,\n",
    "                'English': 70\n",
    "                # Add more subjects and marks as needed\n",
    "            }\n",
    "        },\n",
    "        'Branch 2': {\n",
    "            # Add records for Branch 2 in 2022 if needed\n",
    "        }\n",
    "    },\n",
    "    2023: {\n",
    "        'Branch 1': {},\n",
    "        'Branch 2': {}\n",
    "        # Add records for 2023 as needed\n",
    "    },\n",
    "    2024: {\n",
    "        'Branch 1': {},\n",
    "        'Branch 2': {}\n",
    "        # Add records for 2024 as needed\n",
    "    },\n",
    "    2025: {\n",
    "        'Branch 1': {},\n",
    "        'Branch 2': {}\n",
    "        # Add records for 2025 as needed\n",
    "    }\n",
    "}\n",
    "\n",
    "# Example: Accessing and updating records\n",
    "student_records[2022]['Branch 1']['Marks']['History'] = 95  # Add History marks for Branch 1 in 2022\n",
    "print(student_records[2022]['Branch 1'])  # Display records for Branch 1 in 2022"
   ]
  },
  {
   "cell_type": "markdown",
   "id": "552820bc-cfb3-4750-87c6-8a606fde77e0",
   "metadata": {},
   "source": [
    "# Q8 Using Python classes"
   ]
  },
  {
   "cell_type": "code",
   "execution_count": 68,
   "id": "bba06409-56e2-417c-afed-5597365c008a",
   "metadata": {},
   "outputs": [
    {
     "name": "stdout",
     "output_type": "stream",
     "text": [
      "Year: 2022\n",
      "Branch:\n",
      "Name: N, Roll Number: 1, Marks: {'Maths': 100, 'English': 70}\n",
      "Branch:\n"
     ]
    }
   ],
   "source": [
    "class Student:\n",
    "    def __init__(self, name, roll_number):\n",
    "        self.name = name\n",
    "        self.roll_number = roll_number\n",
    "        self.marks = {}  # Dictionary to store subject-wise marks\n",
    "\n",
    "class Branch:\n",
    "    def __init__(self):\n",
    "        self.students = []  # List to store Student objects\n",
    "\n",
    "class Year:\n",
    "    def __init__(self, year):\n",
    "        self.year = year\n",
    "        self.branches = []  # List to store Branch objects\n",
    "\n",
    "    def add_branch(self, branch):\n",
    "        self.branches.append(branch)\n",
    "\n",
    "# Database (list of Year objects)\n",
    "database = []\n",
    "\n",
    "# Example data addition to the database\n",
    "year_2022 = Year(2022)\n",
    "\n",
    "branch_1_2022 = Branch()\n",
    "student_1_2022 = Student('N', 1)\n",
    "student_1_2022.marks['Maths'] = 100\n",
    "student_1_2022.marks['English'] = 70\n",
    "branch_1_2022.students.append(student_1_2022)\n",
    "\n",
    "branch_2_2022 = Branch()\n",
    "\n",
    "year_2022.add_branch(branch_1_2022)\n",
    "year_2022.add_branch(branch_2_2022)\n",
    "\n",
    "# Add year_2022 to the database\n",
    "database.append(year_2022)\n",
    "\n",
    "# Example: Accessing information\n",
    "for year in database:\n",
    "    print(f\"Year: {year.year}\")\n",
    "    for branch in year.branches:\n",
    "        print(f\"Branch:\")\n",
    "        for student in branch.students:\n",
    "            print(f\"Name: {student.name}, Roll Number: {student.roll_number}, Marks: {student.marks}\")"
   ]
  },
  {
   "cell_type": "markdown",
   "id": "1b24bf3f-f608-4b53-a14d-aa68dc62bcad",
   "metadata": {},
   "source": [
    "# Q10 Using Pandas For MATRIX"
   ]
  },
  {
   "cell_type": "code",
   "execution_count": 69,
   "id": "e2042d5f-2ca8-4ed7-a7cc-6e1fb8d0c653",
   "metadata": {},
   "outputs": [
    {
     "name": "stdout",
     "output_type": "stream",
     "text": [
      "Column 'e' has the highest standard deviation of 0.3167000873757564\n",
      "Row with index 17 has the lowest mean of 1.270254163819599\n"
     ]
    }
   ],
   "source": [
    "import numpy as np\n",
    "import pandas as pd\n",
    "\n",
    "# Generating the NumPy matrix\n",
    "matrix = np.random.uniform(1, 2, size=(20, 5))\n",
    "\n",
    "# Creating a DataFrame from the NumPy matrix with specified column names\n",
    "df = pd.DataFrame(matrix, columns=['a', 'b', 'c', 'd', 'e'])\n",
    "\n",
    "# Calculating standard deviations for each column\n",
    "std_devs = df.std()\n",
    "\n",
    "# Finding the column with the highest standard deviation\n",
    "column_highest_std = std_devs.idxmax()\n",
    "highest_std = std_devs.max()\n",
    "\n",
    "print(f\"Column '{column_highest_std}' has the highest standard deviation of {highest_std}\")\n",
    "\n",
    "# Calculating the mean for each row\n",
    "row_means = df.mean(axis=1)\n",
    "\n",
    "# Finding the row index with the lowest mean\n",
    "row_lowest_mean_index = row_means.idxmin()\n",
    "lowest_mean = row_means.min()\n",
    "\n",
    "print(f\"Row with index {row_lowest_mean_index} has the lowest mean of {lowest_mean}\")"
   ]
  },
  {
   "cell_type": "code",
   "execution_count": 50,
   "id": "de0ecd0f-c8a7-45c5-adaf-83a650549642",
   "metadata": {},
   "outputs": [
    {
     "name": "stdout",
     "output_type": "stream",
     "text": [
      "DataFrame with columns 'f' and 'g':\n",
      "           a         b         c         d         e         f    g\n",
      "0   1.260401  1.410415  1.390195  1.911231  1.510742  7.482983  LT8\n",
      "1   1.057573  1.625660  1.056924  1.239193  1.433884  6.413234  LT8\n",
      "2   1.561453  1.797663  1.573422  1.963260  1.121540  8.017337  GT8\n",
      "3   1.480881  1.062158  1.795668  1.171110  1.351508  6.861325  LT8\n",
      "4   1.928208  1.314849  1.713793  1.165734  1.893864  8.016448  GT8\n",
      "5   1.570833  1.436430  1.335015  1.056717  1.872803  7.271798  LT8\n",
      "6   1.687015  1.354234  1.293559  1.158901  1.005102  6.498810  LT8\n",
      "7   1.753380  1.257446  1.076365  1.472771  1.015259  6.575221  LT8\n",
      "8   1.891214  1.964496  1.408553  1.825840  1.325460  8.415563  GT8\n",
      "9   1.176897  1.210554  1.983465  1.515608  1.059212  6.945735  LT8\n",
      "10  1.200199  1.806457  1.084171  1.955111  1.985099  8.031037  GT8\n",
      "11  1.300996  1.462843  1.453288  1.259040  1.146736  6.622903  LT8\n",
      "12  1.603481  1.216325  1.399441  1.638673  1.070844  6.928765  LT8\n",
      "13  1.942686  1.400480  1.177207  1.662920  1.943715  8.127008  GT8\n",
      "14  1.598881  1.254467  1.506639  1.509251  1.060258  6.929496  LT8\n",
      "15  1.443188  1.858023  1.371787  1.222898  1.627312  7.523209  LT8\n",
      "16  1.462020  1.081510  1.888252  1.975992  1.802115  8.209889  GT8\n",
      "17  1.935571  1.747440  1.945632  1.696480  1.651499  8.976621  GT8\n",
      "18  1.401430  1.827842  1.674650  1.402511  1.544205  7.850638  LT8\n",
      "19  1.660792  1.122055  1.516041  1.494234  1.911007  7.704129  LT8\n",
      "\n",
      "Number of rows where 'g' is 'LT8': 13\n",
      "Standard deviation of 'f' for 'LT8': 0.4762845674133836\n",
      "Standard deviation of 'f' for 'GT8': 0.348442382669227\n"
     ]
    }
   ],
   "source": [
    "import numpy as np\n",
    "import pandas as pd\n",
    "\n",
    "# Generate a 20x5 matrix of random numbers between 1 and 2\n",
    "matrix = np.random.uniform(1, 2, size=(20, 5))\n",
    "\n",
    "# Create a Pandas DataFrame\n",
    "df = pd.DataFrame(matrix, columns=['a', 'b', 'c', 'd', 'e'])\n",
    "\n",
    "# Add a new column 'f' which is the sum of columns 'a', 'b', 'c', 'd', 'e'\n",
    "df['f'] = df[['a', 'b', 'c', 'd', 'e']].sum(axis=1)\n",
    "\n",
    "# Create column 'g' based on the value in column 'f'\n",
    "df['g'] = np.where(df['f'] < 8, 'LT8', 'GT8')\n",
    "\n",
    "# Find the number of rows where 'g' is 'LT8'\n",
    "num_lt8_rows = df[df['g'] == 'LT8'].shape[0]\n",
    "\n",
    "# Find the standard deviation of column 'f' for rows where 'g' is 'LT8' and 'GT8'\n",
    "std_lt8 = df[df['g'] == 'LT8']['f'].std()\n",
    "std_gt8 = df[df['g'] == 'GT8']['f'].std()\n",
    "\n",
    "print(\"DataFrame with columns 'f' and 'g':\")\n",
    "print(df)\n",
    "print(\"\\nNumber of rows where 'g' is 'LT8':\", num_lt8_rows)\n",
    "print(\"Standard deviation of 'f' for 'LT8':\", std_lt8)\n",
    "print(\"Standard deviation of 'f' for 'GT8':\", std_gt8)"
   ]
  },
  {
   "cell_type": "markdown",
   "id": "fa7c3781-a1f5-47a4-aa26-7583811827a8",
   "metadata": {},
   "source": [
    "# Q12 Broadcasting in numpy"
   ]
  },
  {
   "cell_type": "markdown",
   "id": "23ece5c6-e1ff-40e4-adb2-07a96c7be2c6",
   "metadata": {},
   "source": [
    "Broadcasting in NumPy is a powerful concept that allows arithmetic operations to be performed on arrays of different shapes, enabling efficient computation without the need for explicitly creating arrays of the same shape."
   ]
  },
  {
   "cell_type": "markdown",
   "id": "0ee3604c-b4d1-4c40-9337-899d2a8dd224",
   "metadata": {},
   "source": [
    "In this example, x is a 2x3 array and y is a 1-dimensional array of length 3. Normally, you can't directly add arrays of different shapes. However, NumPy performs broadcasting in this case to make the operation possible.\n",
    "\n",
    "Broadcasting operates on the smaller array (y) by \"stretching\" or \"broadcasting\" its shape to match the shape of the larger array (x). It duplicates the smaller array along the axis that is missing or has size 1 to match the shape of the larger array. Then, it performs the operation element-wise.\n",
    "\n",
    "So, in the addition operation (x + y), y is effectively \"broadcast\" to match the shape of x by extending its shape to (2, 3) by repeating the rows. The addition is then performed element-wise, treating each element of y as if it were a row of the same shape as x.\n",
    "\n",
    "This process of automatic alignment and stretching of arrays' shapes to perform element-wise operations efficiently is known as broadcasting in NumPy. It simplifies array operations, making code more concise and readable while maintaining efficient computation."
   ]
  },
  {
   "cell_type": "code",
   "execution_count": 71,
   "id": "c8a7b84e-9076-4b6e-88a1-033948bc390f",
   "metadata": {},
   "outputs": [
    {
     "name": "stdout",
     "output_type": "stream",
     "text": [
      "Array x:\n",
      "[[4 7 2]\n",
      " [1 8 3]]\n",
      "\n",
      "Array y:\n",
      "[15 22 37]\n",
      "\n",
      "Result of x + y (Broadcasting):\n",
      "[[19 29 39]\n",
      " [16 30 40]]\n"
     ]
    }
   ],
   "source": [
    "# Example arrays\n",
    "x = np.array([[4, 7, 2], [1, 8, 3]])  # Shape: (2, 3)\n",
    "y = np.array([15, 22, 37])           # Shape: (3,)\n",
    "\n",
    "# Performing addition using broadcasting\n",
    "result = x + y  # Broadcasting happens here\n",
    "\n",
    "print(\"Array x:\")\n",
    "print(x)\n",
    "print(\"\\nArray y:\")\n",
    "print(y)\n",
    "print(\"\\nResult of x + y (Broadcasting):\")\n",
    "print(result)"
   ]
  },
  {
   "cell_type": "markdown",
   "id": "e3398031-3844-40c1-8f88-7284fb46034d",
   "metadata": {},
   "source": [
    "# Q13 argmin of a numpy array."
   ]
  },
  {
   "cell_type": "markdown",
   "id": "8fe6a203-390b-475a-9cce-e73ce83cc794",
   "metadata": {},
   "source": [
    "This function custom_argmin iterates through the array to find the minimum value and its index. It compares each element to the current minimum value and updates the minimum value and its index accordingly. We then compare the output of this custom function with np.argmin to verify its correctness. Both return the index of the minimum element in the array."
   ]
  },
  {
   "cell_type": "code",
   "execution_count": 73,
   "id": "6e306849-883d-4687-9257-0f4c47b528a4",
   "metadata": {},
   "outputs": [
    {
     "name": "stdout",
     "output_type": "stream",
     "text": [
      "Index of minimum element (Custom Function): 5\n",
      "Index of minimum element (np.argmin): 5\n"
     ]
    }
   ],
   "source": [
    "def custom_argmin(arr):\n",
    "    # Initialize minimum value and index variables\n",
    "    min_value = arr[0]  # Start with the first element\n",
    "    min_index = 0\n",
    "\n",
    "    # Iterate through the array to find the minimum value and its index\n",
    "    for i, val in enumerate(arr):\n",
    "        if val < min_value:\n",
    "            min_value = val\n",
    "            min_index = i\n",
    "\n",
    "    return min_index\n",
    "\n",
    "# Test the function\n",
    "arr = np.array([5, 3, 8, 2, 6, 1])\n",
    "argmin_custom = custom_argmin(arr)\n",
    "argmin_numpy = np.argmin(arr)\n",
    "\n",
    "print(\"Index of minimum element (Custom Function):\", argmin_custom)\n",
    "print(\"Index of minimum element (np.argmin):\", argmin_numpy)\n"
   ]
  },
  {
   "cell_type": "code",
   "execution_count": null,
   "id": "1ddf752c-3e3c-4ae6-82c2-47b6110af0ff",
   "metadata": {},
   "outputs": [],
   "source": []
  }
 ],
 "metadata": {
  "kernelspec": {
   "display_name": "Python 3 (ipykernel)",
   "language": "python",
   "name": "python3"
  },
  "language_info": {
   "codemirror_mode": {
    "name": "ipython",
    "version": 3
   },
   "file_extension": ".py",
   "mimetype": "text/x-python",
   "name": "python",
   "nbconvert_exporter": "python",
   "pygments_lexer": "ipython3",
   "version": "3.12.1"
  }
 },
 "nbformat": 4,
 "nbformat_minor": 5
}
